{
  "cells": [
    {
      "cell_type": "code",
      "execution_count": 1,
      "metadata": {},
      "outputs": [
        {
          "name": "stdout",
          "output_type": "stream",
          "text": [
            "Collecting kaggle\n",
            "  Downloading kaggle-1.6.6.tar.gz (84 kB)\n",
            "\u001b[2K     \u001b[90m━━━━━━━━━━━━━━━━━━━━━━━━━━━━━━━━━━━━━━━\u001b[0m \u001b[32m84.6/84.6 kB\u001b[0m \u001b[31m371.9 kB/s\u001b[0m eta \u001b[36m0:00:00\u001b[0ma \u001b[36m0:00:01\u001b[0m\n",
            "\u001b[?25h  Preparing metadata (setup.py) ... \u001b[?25ldone\n",
            "\u001b[?25hRequirement already satisfied: six>=1.10 in ./anaconda3/envs/test_env/lib/python3.11/site-packages (from kaggle) (1.16.0)\n",
            "Collecting certifi (from kaggle)\n",
            "  Downloading certifi-2024.2.2-py3-none-any.whl.metadata (2.2 kB)\n",
            "Requirement already satisfied: python-dateutil in ./anaconda3/envs/test_env/lib/python3.11/site-packages (from kaggle) (2.9.0)\n",
            "Collecting requests (from kaggle)\n",
            "  Using cached requests-2.31.0-py3-none-any.whl.metadata (4.6 kB)\n",
            "Collecting tqdm (from kaggle)\n",
            "  Downloading tqdm-4.66.2-py3-none-any.whl.metadata (57 kB)\n",
            "\u001b[2K     \u001b[90m━━━━━━━━━━━━━━━━━━━━━━━━━━━━━━━━━━━━━━━\u001b[0m \u001b[32m57.6/57.6 kB\u001b[0m \u001b[31m114.8 kB/s\u001b[0m eta \u001b[36m0:00:00\u001b[0ma \u001b[36m0:00:01\u001b[0m\n",
            "\u001b[?25hCollecting python-slugify (from kaggle)\n",
            "  Downloading python_slugify-8.0.4-py2.py3-none-any.whl.metadata (8.5 kB)\n",
            "Collecting urllib3 (from kaggle)\n",
            "  Downloading urllib3-2.2.1-py3-none-any.whl.metadata (6.4 kB)\n",
            "Collecting bleach (from kaggle)\n",
            "  Downloading bleach-6.1.0-py3-none-any.whl.metadata (30 kB)\n",
            "Collecting webencodings (from bleach->kaggle)\n",
            "  Downloading webencodings-0.5.1-py2.py3-none-any.whl.metadata (2.1 kB)\n",
            "Collecting text-unidecode>=1.3 (from python-slugify->kaggle)\n",
            "  Downloading text_unidecode-1.3-py2.py3-none-any.whl.metadata (2.4 kB)\n",
            "Collecting charset-normalizer<4,>=2 (from requests->kaggle)\n",
            "  Using cached charset_normalizer-3.3.2-cp311-cp311-manylinux_2_17_x86_64.manylinux2014_x86_64.whl.metadata (33 kB)\n",
            "Collecting idna<4,>=2.5 (from requests->kaggle)\n",
            "  Using cached idna-3.6-py3-none-any.whl.metadata (9.9 kB)\n",
            "Downloading bleach-6.1.0-py3-none-any.whl (162 kB)\n",
            "\u001b[2K   \u001b[90m━━━━━━━━━━━━━━━━━━━━━━━━━━━━━━━━━━━━━━━\u001b[0m \u001b[32m162.8/162.8 kB\u001b[0m \u001b[31m203.6 kB/s\u001b[0m eta \u001b[36m0:00:00\u001b[0ma \u001b[36m0:00:01\u001b[0m\n",
            "\u001b[?25hDownloading certifi-2024.2.2-py3-none-any.whl (163 kB)\n",
            "\u001b[2K   \u001b[90m━━━━━━━━━━━━━━━━━━━━━━━━━━━━━━━━━━━━━━━\u001b[0m \u001b[32m163.8/163.8 kB\u001b[0m \u001b[31m188.8 kB/s\u001b[0m eta \u001b[36m0:00:00\u001b[0m \u001b[36m0:00:01\u001b[0m\n",
            "\u001b[?25hDownloading python_slugify-8.0.4-py2.py3-none-any.whl (10 kB)\n",
            "Using cached requests-2.31.0-py3-none-any.whl (62 kB)\n",
            "Downloading urllib3-2.2.1-py3-none-any.whl (121 kB)\n",
            "\u001b[2K   \u001b[90m━━━━━━━━━━━━━━━━━━━━━━━━━━━━━━━━━━━━━━━\u001b[0m \u001b[32m121.1/121.1 kB\u001b[0m \u001b[31m599.9 kB/s\u001b[0m eta \u001b[36m0:00:00\u001b[0m \u001b[36m0:00:01\u001b[0m\n",
            "\u001b[?25hDownloading tqdm-4.66.2-py3-none-any.whl (78 kB)\n",
            "\u001b[2K   \u001b[90m━━━━━━━━━━━━━━━━━━━━━━━━━━━━━━━━━━━━━━━━\u001b[0m \u001b[32m78.3/78.3 kB\u001b[0m \u001b[31m539.0 kB/s\u001b[0m eta \u001b[36m0:00:00\u001b[0m\u001b[36m0:00:01\u001b[0m\n",
            "\u001b[?25hUsing cached charset_normalizer-3.3.2-cp311-cp311-manylinux_2_17_x86_64.manylinux2014_x86_64.whl (140 kB)\n",
            "Using cached idna-3.6-py3-none-any.whl (61 kB)\n",
            "Downloading text_unidecode-1.3-py2.py3-none-any.whl (78 kB)\n",
            "\u001b[2K   \u001b[90m━━━━━━━━━━━━━━━━━━━━━━━━━━━━━━━━━━━━━━━━\u001b[0m \u001b[32m78.2/78.2 kB\u001b[0m \u001b[31m705.1 kB/s\u001b[0m eta \u001b[36m0:00:00\u001b[0m\u001b[36m0:00:01\u001b[0m\n",
            "\u001b[?25hUsing cached webencodings-0.5.1-py2.py3-none-any.whl (11 kB)\n",
            "Building wheels for collected packages: kaggle\n",
            "  Building wheel for kaggle (setup.py) ... \u001b[?25ldone\n",
            "\u001b[?25h  Created wheel for kaggle: filename=kaggle-1.6.6-py3-none-any.whl size=111943 sha256=025741ffbbe2be94ac150673a05dc539be45fbec7b0e05ac68dbc8f9d2e4b629\n",
            "  Stored in directory: /home/lkshpr/.cache/pip/wheels/97/06/54/3d44857e6aa73d66d0174f29389e7ea70c007105797e6ec05c\n",
            "Successfully built kaggle\n",
            "Installing collected packages: webencodings, text-unidecode, urllib3, tqdm, python-slugify, idna, charset-normalizer, certifi, bleach, requests, kaggle\n",
            "\u001b[31mERROR: pip's dependency resolver does not currently take into account all the packages that are installed. This behaviour is the source of the following dependency conflicts.\n",
            "advocate 1.0.0 requires pyasn1, which is not installed.\n",
            "advocate 1.0.0 requires urllib3<2.0,>=1.22, but you have urllib3 2.2.1 which is incompatible.\u001b[0m\u001b[31m\n",
            "\u001b[0mSuccessfully installed bleach-6.1.0 certifi-2024.2.2 charset-normalizer-3.3.2 idna-3.6 kaggle-1.6.6 python-slugify-8.0.4 requests-2.31.0 text-unidecode-1.3 tqdm-4.66.2 urllib3-2.2.1 webencodings-0.5.1\n"
          ]
        }
      ],
      "source": [
        "!pip install kaggle"
      ]
    },
    {
      "cell_type": "code",
      "execution_count": 2,
      "metadata": {
        "colab": {
          "base_uri": "https://localhost:8080/"
        },
        "id": "lR5rfVZcz_kh",
        "outputId": "2f7ec95c-f8d8-4dfb-9a9d-c580a258d12b"
      },
      "outputs": [
        {
          "name": "stdout",
          "output_type": "stream",
          "text": [
            "cp: cannot stat 'kaggle.json': No such file or directory\n",
            "chmod: cannot access '/home/lkshpr/.kaggle/kaggle.json': No such file or directory\n",
            "Traceback (most recent call last):\n",
            "  File \"/home/lkshpr/anaconda3/envs/test_env/bin/kaggle\", line 5, in <module>\n",
            "    from kaggle.cli import main\n",
            "  File \"/home/lkshpr/anaconda3/envs/test_env/lib/python3.11/site-packages/kaggle/__init__.py\", line 23, in <module>\n",
            "    api.authenticate()\n",
            "  File \"/home/lkshpr/anaconda3/envs/test_env/lib/python3.11/site-packages/kaggle/api/kaggle_api_extended.py\", line 403, in authenticate\n",
            "    raise IOError('Could not find {}. Make sure it\\'s located in'\n",
            "OSError: Could not find kaggle.json. Make sure it's located in /home/lkshpr/.kaggle. Or use the environment method.\n"
          ]
        }
      ],
      "source": [
        "!mkdir ~/.kaggle\n",
        "!cp kaggle.json ~/.kaggle/\n",
        "!chmod 600 ~/.kaggle/kaggle.json\n",
        "!kaggle datasets download -d camnugent/california-housing-prices"
      ]
    },
    {
      "cell_type": "code",
      "execution_count": 3,
      "metadata": {
        "colab": {
          "base_uri": "https://localhost:8080/"
        },
        "id": "htBqNVJL2G-S",
        "outputId": "46608c4f-20c1-478d-8435-35496e9d2139"
      },
      "outputs": [
        {
          "name": "stdout",
          "output_type": "stream",
          "text": [
            "unzip:  cannot find or open california-housing-prices.zip, california-housing-prices.zip.zip or california-housing-prices.zip.ZIP.\n"
          ]
        }
      ],
      "source": [
        "!unzip california-housing-prices.zip"
      ]
    },
    {
      "cell_type": "code",
      "execution_count": 4,
      "metadata": {
        "colab": {
          "base_uri": "https://localhost:8080/",
          "height": 442
        },
        "id": "7ceZ1BOS2Xws",
        "outputId": "6f0ac96d-907f-4130-fa92-30d417058cd5"
      },
      "outputs": [
        {
          "ename": "ModuleNotFoundError",
          "evalue": "No module named 'pandas'",
          "output_type": "error",
          "traceback": [
            "\u001b[0;31m---------------------------------------------------------------------------\u001b[0m",
            "\u001b[0;31mModuleNotFoundError\u001b[0m                       Traceback (most recent call last)",
            "Cell \u001b[0;32mIn[4], line 1\u001b[0m\n\u001b[0;32m----> 1\u001b[0m \u001b[38;5;28;01mimport\u001b[39;00m \u001b[38;5;21;01mpandas\u001b[39;00m \u001b[38;5;28;01mas\u001b[39;00m \u001b[38;5;21;01mpd\u001b[39;00m\n\u001b[1;32m      3\u001b[0m housing_pd \u001b[38;5;241m=\u001b[39m pd\u001b[38;5;241m.\u001b[39mread_csv(\u001b[38;5;124m'\u001b[39m\u001b[38;5;124mhousing.csv\u001b[39m\u001b[38;5;124m'\u001b[39m)\n\u001b[1;32m      4\u001b[0m housing_pd\n",
            "\u001b[0;31mModuleNotFoundError\u001b[0m: No module named 'pandas'"
          ]
        }
      ],
      "source": [
        "import pandas as pd\n",
        "\n",
        "housing_pd = pd.read_csv('housing.csv')\n",
        "housing_pd"
      ]
    },
    {
      "cell_type": "code",
      "execution_count": null,
      "metadata": {
        "colab": {
          "base_uri": "https://localhost:8080/"
        },
        "id": "JzHJWLxM2o2b",
        "outputId": "b2e2adfc-ade3-4153-82e1-75191ab3eb41"
      },
      "outputs": [
        {
          "data": {
            "text/plain": [
              "<1H OCEAN     9136\n",
              "INLAND        6551\n",
              "NEAR OCEAN    2658\n",
              "NEAR BAY      2290\n",
              "ISLAND           5\n",
              "Name: ocean_proximity, dtype: int64"
            ]
          },
          "execution_count": 9,
          "metadata": {},
          "output_type": "execute_result"
        }
      ],
      "source": [
        "housing_pd['ocean_proximity'].value_counts()"
      ]
    },
    {
      "cell_type": "code",
      "execution_count": null,
      "metadata": {
        "colab": {
          "base_uri": "https://localhost:8080/",
          "height": 442
        },
        "id": "ZTGNg1P426ef",
        "outputId": "34e324bf-395c-484a-9a15-f85388b71799"
      },
      "outputs": [
        {
          "data": {
            "text/html": [
              "<div>\n",
              "<style scoped>\n",
              "    .dataframe tbody tr th:only-of-type {\n",
              "        vertical-align: middle;\n",
              "    }\n",
              "\n",
              "    .dataframe tbody tr th {\n",
              "        vertical-align: top;\n",
              "    }\n",
              "\n",
              "    .dataframe thead th {\n",
              "        text-align: right;\n",
              "    }\n",
              "</style>\n",
              "<table border=\"1\" class=\"dataframe\">\n",
              "  <thead>\n",
              "    <tr style=\"text-align: right;\">\n",
              "      <th></th>\n",
              "      <th>longitude</th>\n",
              "      <th>latitude</th>\n",
              "      <th>housing_median_age</th>\n",
              "      <th>total_rooms</th>\n",
              "      <th>total_bedrooms</th>\n",
              "      <th>population</th>\n",
              "      <th>households</th>\n",
              "      <th>median_income</th>\n",
              "      <th>median_house_value</th>\n",
              "      <th>ocean_proximity</th>\n",
              "    </tr>\n",
              "  </thead>\n",
              "  <tbody>\n",
              "    <tr>\n",
              "      <th>4712</th>\n",
              "      <td>-118.36</td>\n",
              "      <td>34.06</td>\n",
              "      <td>39</td>\n",
              "      <td>2810</td>\n",
              "      <td>670.0</td>\n",
              "      <td>1109</td>\n",
              "      <td>624</td>\n",
              "      <td>3.2500</td>\n",
              "      <td>355000</td>\n",
              "      <td>&lt;1H OCEAN</td>\n",
              "    </tr>\n",
              "    <tr>\n",
              "      <th>2151</th>\n",
              "      <td>-119.78</td>\n",
              "      <td>36.78</td>\n",
              "      <td>37</td>\n",
              "      <td>2185</td>\n",
              "      <td>455.0</td>\n",
              "      <td>1143</td>\n",
              "      <td>438</td>\n",
              "      <td>1.9784</td>\n",
              "      <td>70700</td>\n",
              "      <td>INLAND</td>\n",
              "    </tr>\n",
              "    <tr>\n",
              "      <th>15927</th>\n",
              "      <td>-122.42</td>\n",
              "      <td>37.73</td>\n",
              "      <td>46</td>\n",
              "      <td>1819</td>\n",
              "      <td>411.0</td>\n",
              "      <td>1534</td>\n",
              "      <td>406</td>\n",
              "      <td>4.0132</td>\n",
              "      <td>229400</td>\n",
              "      <td>NEAR BAY</td>\n",
              "    </tr>\n",
              "    <tr>\n",
              "      <th>82</th>\n",
              "      <td>-122.28</td>\n",
              "      <td>37.81</td>\n",
              "      <td>52</td>\n",
              "      <td>340</td>\n",
              "      <td>97.0</td>\n",
              "      <td>200</td>\n",
              "      <td>87</td>\n",
              "      <td>1.5208</td>\n",
              "      <td>112500</td>\n",
              "      <td>NEAR BAY</td>\n",
              "    </tr>\n",
              "    <tr>\n",
              "      <th>8161</th>\n",
              "      <td>-118.13</td>\n",
              "      <td>33.82</td>\n",
              "      <td>37</td>\n",
              "      <td>1530</td>\n",
              "      <td>290.0</td>\n",
              "      <td>711</td>\n",
              "      <td>283</td>\n",
              "      <td>5.1795</td>\n",
              "      <td>225400</td>\n",
              "      <td>&lt;1H OCEAN</td>\n",
              "    </tr>\n",
              "    <tr>\n",
              "      <th>...</th>\n",
              "      <td>...</td>\n",
              "      <td>...</td>\n",
              "      <td>...</td>\n",
              "      <td>...</td>\n",
              "      <td>...</td>\n",
              "      <td>...</td>\n",
              "      <td>...</td>\n",
              "      <td>...</td>\n",
              "      <td>...</td>\n",
              "      <td>...</td>\n",
              "    </tr>\n",
              "    <tr>\n",
              "      <th>10955</th>\n",
              "      <td>-117.88</td>\n",
              "      <td>33.76</td>\n",
              "      <td>17</td>\n",
              "      <td>1768</td>\n",
              "      <td>474.0</td>\n",
              "      <td>1079</td>\n",
              "      <td>436</td>\n",
              "      <td>1.7823</td>\n",
              "      <td>205300</td>\n",
              "      <td>&lt;1H OCEAN</td>\n",
              "    </tr>\n",
              "    <tr>\n",
              "      <th>17289</th>\n",
              "      <td>-119.63</td>\n",
              "      <td>34.42</td>\n",
              "      <td>42</td>\n",
              "      <td>1765</td>\n",
              "      <td>263.0</td>\n",
              "      <td>753</td>\n",
              "      <td>260</td>\n",
              "      <td>8.5608</td>\n",
              "      <td>500001</td>\n",
              "      <td>&lt;1H OCEAN</td>\n",
              "    </tr>\n",
              "    <tr>\n",
              "      <th>5192</th>\n",
              "      <td>-118.26</td>\n",
              "      <td>33.93</td>\n",
              "      <td>42</td>\n",
              "      <td>1433</td>\n",
              "      <td>295.0</td>\n",
              "      <td>775</td>\n",
              "      <td>293</td>\n",
              "      <td>1.1326</td>\n",
              "      <td>104800</td>\n",
              "      <td>&lt;1H OCEAN</td>\n",
              "    </tr>\n",
              "    <tr>\n",
              "      <th>12172</th>\n",
              "      <td>-117.16</td>\n",
              "      <td>33.73</td>\n",
              "      <td>10</td>\n",
              "      <td>2381</td>\n",
              "      <td>454.0</td>\n",
              "      <td>1323</td>\n",
              "      <td>477</td>\n",
              "      <td>2.6322</td>\n",
              "      <td>140700</td>\n",
              "      <td>INLAND</td>\n",
              "    </tr>\n",
              "    <tr>\n",
              "      <th>235</th>\n",
              "      <td>-122.20</td>\n",
              "      <td>37.79</td>\n",
              "      <td>35</td>\n",
              "      <td>1802</td>\n",
              "      <td>459.0</td>\n",
              "      <td>1009</td>\n",
              "      <td>390</td>\n",
              "      <td>2.3036</td>\n",
              "      <td>126000</td>\n",
              "      <td>NEAR BAY</td>\n",
              "    </tr>\n",
              "  </tbody>\n",
              "</table>\n",
              "<p>20640 rows × 10 columns</p>\n",
              "</div>"
            ],
            "text/plain": [
              "       longitude  latitude  housing_median_age  total_rooms  total_bedrooms  \\\n",
              "4712     -118.36     34.06                  39         2810           670.0   \n",
              "2151     -119.78     36.78                  37         2185           455.0   \n",
              "15927    -122.42     37.73                  46         1819           411.0   \n",
              "82       -122.28     37.81                  52          340            97.0   \n",
              "8161     -118.13     33.82                  37         1530           290.0   \n",
              "...          ...       ...                 ...          ...             ...   \n",
              "10955    -117.88     33.76                  17         1768           474.0   \n",
              "17289    -119.63     34.42                  42         1765           263.0   \n",
              "5192     -118.26     33.93                  42         1433           295.0   \n",
              "12172    -117.16     33.73                  10         2381           454.0   \n",
              "235      -122.20     37.79                  35         1802           459.0   \n",
              "\n",
              "       population  households  median_income  median_house_value  \\\n",
              "4712         1109         624         3.2500              355000   \n",
              "2151         1143         438         1.9784               70700   \n",
              "15927        1534         406         4.0132              229400   \n",
              "82            200          87         1.5208              112500   \n",
              "8161          711         283         5.1795              225400   \n",
              "...           ...         ...            ...                 ...   \n",
              "10955        1079         436         1.7823              205300   \n",
              "17289         753         260         8.5608              500001   \n",
              "5192          775         293         1.1326              104800   \n",
              "12172        1323         477         2.6322              140700   \n",
              "235          1009         390         2.3036              126000   \n",
              "\n",
              "      ocean_proximity  \n",
              "4712        <1H OCEAN  \n",
              "2151           INLAND  \n",
              "15927        NEAR BAY  \n",
              "82           NEAR BAY  \n",
              "8161        <1H OCEAN  \n",
              "...               ...  \n",
              "10955       <1H OCEAN  \n",
              "17289       <1H OCEAN  \n",
              "5192        <1H OCEAN  \n",
              "12172          INLAND  \n",
              "235          NEAR BAY  \n",
              "\n",
              "[20640 rows x 10 columns]"
            ]
          },
          "execution_count": 10,
          "metadata": {},
          "output_type": "execute_result"
        }
      ],
      "source": [
        "housing_pd_shuffled = housing_pd.sample(n=len(housing_pd), random_state=1)\n",
        "housing_pd_shuffled"
      ]
    },
    {
      "cell_type": "code",
      "execution_count": null,
      "metadata": {
        "colab": {
          "base_uri": "https://localhost:8080/",
          "height": 205
        },
        "id": "fUOSxYJg44xV",
        "outputId": "a097e8ea-eb2e-4a57-e3ed-1769c1b2704a"
      },
      "outputs": [
        {
          "data": {
            "text/html": [
              "<div>\n",
              "<style scoped>\n",
              "    .dataframe tbody tr th:only-of-type {\n",
              "        vertical-align: middle;\n",
              "    }\n",
              "\n",
              "    .dataframe tbody tr th {\n",
              "        vertical-align: top;\n",
              "    }\n",
              "\n",
              "    .dataframe thead th {\n",
              "        text-align: right;\n",
              "    }\n",
              "</style>\n",
              "<table border=\"1\" class=\"dataframe\">\n",
              "  <thead>\n",
              "    <tr style=\"text-align: right;\">\n",
              "      <th></th>\n",
              "      <th>&lt;1H OCEAN</th>\n",
              "      <th>INLAND</th>\n",
              "      <th>ISLAND</th>\n",
              "      <th>NEAR BAY</th>\n",
              "      <th>NEAR OCEAN</th>\n",
              "    </tr>\n",
              "  </thead>\n",
              "  <tbody>\n",
              "    <tr>\n",
              "      <th>4712</th>\n",
              "      <td>1</td>\n",
              "      <td>0</td>\n",
              "      <td>0</td>\n",
              "      <td>0</td>\n",
              "      <td>0</td>\n",
              "    </tr>\n",
              "    <tr>\n",
              "      <th>2151</th>\n",
              "      <td>0</td>\n",
              "      <td>1</td>\n",
              "      <td>0</td>\n",
              "      <td>0</td>\n",
              "      <td>0</td>\n",
              "    </tr>\n",
              "    <tr>\n",
              "      <th>15927</th>\n",
              "      <td>0</td>\n",
              "      <td>0</td>\n",
              "      <td>0</td>\n",
              "      <td>1</td>\n",
              "      <td>0</td>\n",
              "    </tr>\n",
              "    <tr>\n",
              "      <th>82</th>\n",
              "      <td>0</td>\n",
              "      <td>0</td>\n",
              "      <td>0</td>\n",
              "      <td>1</td>\n",
              "      <td>0</td>\n",
              "    </tr>\n",
              "    <tr>\n",
              "      <th>8161</th>\n",
              "      <td>1</td>\n",
              "      <td>0</td>\n",
              "      <td>0</td>\n",
              "      <td>0</td>\n",
              "      <td>0</td>\n",
              "    </tr>\n",
              "  </tbody>\n",
              "</table>\n",
              "</div>"
            ],
            "text/plain": [
              "       <1H OCEAN  INLAND  ISLAND  NEAR BAY  NEAR OCEAN\n",
              "4712           1       0       0         0           0\n",
              "2151           0       1       0         0           0\n",
              "15927          0       0       0         1           0\n",
              "82             0       0       0         1           0\n",
              "8161           1       0       0         0           0"
            ]
          },
          "execution_count": 11,
          "metadata": {},
          "output_type": "execute_result"
        }
      ],
      "source": [
        "pd.get_dummies(housing_pd_shuffled['ocean_proximity']).head()"
      ]
    },
    {
      "cell_type": "code",
      "execution_count": null,
      "metadata": {
        "colab": {
          "base_uri": "https://localhost:8080/",
          "height": 205
        },
        "id": "sSVaa5-L5KdJ",
        "outputId": "edfa66f1-fb08-4269-97d4-477a4e222cd8"
      },
      "outputs": [
        {
          "data": {
            "text/html": [
              "<div>\n",
              "<style scoped>\n",
              "    .dataframe tbody tr th:only-of-type {\n",
              "        vertical-align: middle;\n",
              "    }\n",
              "\n",
              "    .dataframe tbody tr th {\n",
              "        vertical-align: top;\n",
              "    }\n",
              "\n",
              "    .dataframe thead th {\n",
              "        text-align: right;\n",
              "    }\n",
              "</style>\n",
              "<table border=\"1\" class=\"dataframe\">\n",
              "  <thead>\n",
              "    <tr style=\"text-align: right;\">\n",
              "      <th></th>\n",
              "      <th>longitude</th>\n",
              "      <th>latitude</th>\n",
              "      <th>housing_median_age</th>\n",
              "      <th>total_rooms</th>\n",
              "      <th>total_bedrooms</th>\n",
              "      <th>population</th>\n",
              "      <th>households</th>\n",
              "      <th>median_income</th>\n",
              "      <th>median_house_value</th>\n",
              "    </tr>\n",
              "  </thead>\n",
              "  <tbody>\n",
              "    <tr>\n",
              "      <th>4712</th>\n",
              "      <td>-118.36</td>\n",
              "      <td>34.06</td>\n",
              "      <td>39</td>\n",
              "      <td>2810</td>\n",
              "      <td>670.0</td>\n",
              "      <td>1109</td>\n",
              "      <td>624</td>\n",
              "      <td>3.2500</td>\n",
              "      <td>355000</td>\n",
              "    </tr>\n",
              "    <tr>\n",
              "      <th>2151</th>\n",
              "      <td>-119.78</td>\n",
              "      <td>36.78</td>\n",
              "      <td>37</td>\n",
              "      <td>2185</td>\n",
              "      <td>455.0</td>\n",
              "      <td>1143</td>\n",
              "      <td>438</td>\n",
              "      <td>1.9784</td>\n",
              "      <td>70700</td>\n",
              "    </tr>\n",
              "    <tr>\n",
              "      <th>15927</th>\n",
              "      <td>-122.42</td>\n",
              "      <td>37.73</td>\n",
              "      <td>46</td>\n",
              "      <td>1819</td>\n",
              "      <td>411.0</td>\n",
              "      <td>1534</td>\n",
              "      <td>406</td>\n",
              "      <td>4.0132</td>\n",
              "      <td>229400</td>\n",
              "    </tr>\n",
              "    <tr>\n",
              "      <th>82</th>\n",
              "      <td>-122.28</td>\n",
              "      <td>37.81</td>\n",
              "      <td>52</td>\n",
              "      <td>340</td>\n",
              "      <td>97.0</td>\n",
              "      <td>200</td>\n",
              "      <td>87</td>\n",
              "      <td>1.5208</td>\n",
              "      <td>112500</td>\n",
              "    </tr>\n",
              "    <tr>\n",
              "      <th>8161</th>\n",
              "      <td>-118.13</td>\n",
              "      <td>33.82</td>\n",
              "      <td>37</td>\n",
              "      <td>1530</td>\n",
              "      <td>290.0</td>\n",
              "      <td>711</td>\n",
              "      <td>283</td>\n",
              "      <td>5.1795</td>\n",
              "      <td>225400</td>\n",
              "    </tr>\n",
              "  </tbody>\n",
              "</table>\n",
              "</div>"
            ],
            "text/plain": [
              "       longitude  latitude  housing_median_age  total_rooms  total_bedrooms  \\\n",
              "4712     -118.36     34.06                  39         2810           670.0   \n",
              "2151     -119.78     36.78                  37         2185           455.0   \n",
              "15927    -122.42     37.73                  46         1819           411.0   \n",
              "82       -122.28     37.81                  52          340            97.0   \n",
              "8161     -118.13     33.82                  37         1530           290.0   \n",
              "\n",
              "       population  households  median_income  median_house_value  \n",
              "4712         1109         624         3.2500              355000  \n",
              "2151         1143         438         1.9784               70700  \n",
              "15927        1534         406         4.0132              229400  \n",
              "82            200          87         1.5208              112500  \n",
              "8161          711         283         5.1795              225400  "
            ]
          },
          "execution_count": 12,
          "metadata": {},
          "output_type": "execute_result"
        }
      ],
      "source": [
        "housing_pd_shuffled.drop('ocean_proximity', axis=1).head()"
      ]
    },
    {
      "cell_type": "code",
      "execution_count": null,
      "metadata": {
        "colab": {
          "base_uri": "https://localhost:8080/",
          "height": 460
        },
        "id": "OwNfYrvC5nFN",
        "outputId": "7a16490e-9c95-4509-f85d-6a85b9bc119e"
      },
      "outputs": [
        {
          "data": {
            "text/html": [
              "<div>\n",
              "<style scoped>\n",
              "    .dataframe tbody tr th:only-of-type {\n",
              "        vertical-align: middle;\n",
              "    }\n",
              "\n",
              "    .dataframe tbody tr th {\n",
              "        vertical-align: top;\n",
              "    }\n",
              "\n",
              "    .dataframe thead th {\n",
              "        text-align: right;\n",
              "    }\n",
              "</style>\n",
              "<table border=\"1\" class=\"dataframe\">\n",
              "  <thead>\n",
              "    <tr style=\"text-align: right;\">\n",
              "      <th></th>\n",
              "      <th>longitude</th>\n",
              "      <th>latitude</th>\n",
              "      <th>housing_median_age</th>\n",
              "      <th>total_rooms</th>\n",
              "      <th>total_bedrooms</th>\n",
              "      <th>population</th>\n",
              "      <th>households</th>\n",
              "      <th>median_income</th>\n",
              "      <th>median_house_value</th>\n",
              "      <th>&lt;1H OCEAN</th>\n",
              "      <th>INLAND</th>\n",
              "      <th>ISLAND</th>\n",
              "      <th>NEAR BAY</th>\n",
              "      <th>NEAR OCEAN</th>\n",
              "    </tr>\n",
              "  </thead>\n",
              "  <tbody>\n",
              "    <tr>\n",
              "      <th>4712</th>\n",
              "      <td>-118.36</td>\n",
              "      <td>34.06</td>\n",
              "      <td>39</td>\n",
              "      <td>2810</td>\n",
              "      <td>670.0</td>\n",
              "      <td>1109</td>\n",
              "      <td>624</td>\n",
              "      <td>3.2500</td>\n",
              "      <td>355000</td>\n",
              "      <td>1</td>\n",
              "      <td>0</td>\n",
              "      <td>0</td>\n",
              "      <td>0</td>\n",
              "      <td>0</td>\n",
              "    </tr>\n",
              "    <tr>\n",
              "      <th>2151</th>\n",
              "      <td>-119.78</td>\n",
              "      <td>36.78</td>\n",
              "      <td>37</td>\n",
              "      <td>2185</td>\n",
              "      <td>455.0</td>\n",
              "      <td>1143</td>\n",
              "      <td>438</td>\n",
              "      <td>1.9784</td>\n",
              "      <td>70700</td>\n",
              "      <td>0</td>\n",
              "      <td>1</td>\n",
              "      <td>0</td>\n",
              "      <td>0</td>\n",
              "      <td>0</td>\n",
              "    </tr>\n",
              "    <tr>\n",
              "      <th>15927</th>\n",
              "      <td>-122.42</td>\n",
              "      <td>37.73</td>\n",
              "      <td>46</td>\n",
              "      <td>1819</td>\n",
              "      <td>411.0</td>\n",
              "      <td>1534</td>\n",
              "      <td>406</td>\n",
              "      <td>4.0132</td>\n",
              "      <td>229400</td>\n",
              "      <td>0</td>\n",
              "      <td>0</td>\n",
              "      <td>0</td>\n",
              "      <td>1</td>\n",
              "      <td>0</td>\n",
              "    </tr>\n",
              "    <tr>\n",
              "      <th>82</th>\n",
              "      <td>-122.28</td>\n",
              "      <td>37.81</td>\n",
              "      <td>52</td>\n",
              "      <td>340</td>\n",
              "      <td>97.0</td>\n",
              "      <td>200</td>\n",
              "      <td>87</td>\n",
              "      <td>1.5208</td>\n",
              "      <td>112500</td>\n",
              "      <td>0</td>\n",
              "      <td>0</td>\n",
              "      <td>0</td>\n",
              "      <td>1</td>\n",
              "      <td>0</td>\n",
              "    </tr>\n",
              "    <tr>\n",
              "      <th>8161</th>\n",
              "      <td>-118.13</td>\n",
              "      <td>33.82</td>\n",
              "      <td>37</td>\n",
              "      <td>1530</td>\n",
              "      <td>290.0</td>\n",
              "      <td>711</td>\n",
              "      <td>283</td>\n",
              "      <td>5.1795</td>\n",
              "      <td>225400</td>\n",
              "      <td>1</td>\n",
              "      <td>0</td>\n",
              "      <td>0</td>\n",
              "      <td>0</td>\n",
              "      <td>0</td>\n",
              "    </tr>\n",
              "    <tr>\n",
              "      <th>...</th>\n",
              "      <td>...</td>\n",
              "      <td>...</td>\n",
              "      <td>...</td>\n",
              "      <td>...</td>\n",
              "      <td>...</td>\n",
              "      <td>...</td>\n",
              "      <td>...</td>\n",
              "      <td>...</td>\n",
              "      <td>...</td>\n",
              "      <td>...</td>\n",
              "      <td>...</td>\n",
              "      <td>...</td>\n",
              "      <td>...</td>\n",
              "      <td>...</td>\n",
              "    </tr>\n",
              "    <tr>\n",
              "      <th>10955</th>\n",
              "      <td>-117.88</td>\n",
              "      <td>33.76</td>\n",
              "      <td>17</td>\n",
              "      <td>1768</td>\n",
              "      <td>474.0</td>\n",
              "      <td>1079</td>\n",
              "      <td>436</td>\n",
              "      <td>1.7823</td>\n",
              "      <td>205300</td>\n",
              "      <td>1</td>\n",
              "      <td>0</td>\n",
              "      <td>0</td>\n",
              "      <td>0</td>\n",
              "      <td>0</td>\n",
              "    </tr>\n",
              "    <tr>\n",
              "      <th>17289</th>\n",
              "      <td>-119.63</td>\n",
              "      <td>34.42</td>\n",
              "      <td>42</td>\n",
              "      <td>1765</td>\n",
              "      <td>263.0</td>\n",
              "      <td>753</td>\n",
              "      <td>260</td>\n",
              "      <td>8.5608</td>\n",
              "      <td>500001</td>\n",
              "      <td>1</td>\n",
              "      <td>0</td>\n",
              "      <td>0</td>\n",
              "      <td>0</td>\n",
              "      <td>0</td>\n",
              "    </tr>\n",
              "    <tr>\n",
              "      <th>5192</th>\n",
              "      <td>-118.26</td>\n",
              "      <td>33.93</td>\n",
              "      <td>42</td>\n",
              "      <td>1433</td>\n",
              "      <td>295.0</td>\n",
              "      <td>775</td>\n",
              "      <td>293</td>\n",
              "      <td>1.1326</td>\n",
              "      <td>104800</td>\n",
              "      <td>1</td>\n",
              "      <td>0</td>\n",
              "      <td>0</td>\n",
              "      <td>0</td>\n",
              "      <td>0</td>\n",
              "    </tr>\n",
              "    <tr>\n",
              "      <th>12172</th>\n",
              "      <td>-117.16</td>\n",
              "      <td>33.73</td>\n",
              "      <td>10</td>\n",
              "      <td>2381</td>\n",
              "      <td>454.0</td>\n",
              "      <td>1323</td>\n",
              "      <td>477</td>\n",
              "      <td>2.6322</td>\n",
              "      <td>140700</td>\n",
              "      <td>0</td>\n",
              "      <td>1</td>\n",
              "      <td>0</td>\n",
              "      <td>0</td>\n",
              "      <td>0</td>\n",
              "    </tr>\n",
              "    <tr>\n",
              "      <th>235</th>\n",
              "      <td>-122.20</td>\n",
              "      <td>37.79</td>\n",
              "      <td>35</td>\n",
              "      <td>1802</td>\n",
              "      <td>459.0</td>\n",
              "      <td>1009</td>\n",
              "      <td>390</td>\n",
              "      <td>2.3036</td>\n",
              "      <td>126000</td>\n",
              "      <td>0</td>\n",
              "      <td>0</td>\n",
              "      <td>0</td>\n",
              "      <td>1</td>\n",
              "      <td>0</td>\n",
              "    </tr>\n",
              "  </tbody>\n",
              "</table>\n",
              "<p>20640 rows × 14 columns</p>\n",
              "</div>"
            ],
            "text/plain": [
              "       longitude  latitude  housing_median_age  total_rooms  total_bedrooms  \\\n",
              "4712     -118.36     34.06                  39         2810           670.0   \n",
              "2151     -119.78     36.78                  37         2185           455.0   \n",
              "15927    -122.42     37.73                  46         1819           411.0   \n",
              "82       -122.28     37.81                  52          340            97.0   \n",
              "8161     -118.13     33.82                  37         1530           290.0   \n",
              "...          ...       ...                 ...          ...             ...   \n",
              "10955    -117.88     33.76                  17         1768           474.0   \n",
              "17289    -119.63     34.42                  42         1765           263.0   \n",
              "5192     -118.26     33.93                  42         1433           295.0   \n",
              "12172    -117.16     33.73                  10         2381           454.0   \n",
              "235      -122.20     37.79                  35         1802           459.0   \n",
              "\n",
              "       population  households  median_income  median_house_value  <1H OCEAN  \\\n",
              "4712         1109         624         3.2500              355000          1   \n",
              "2151         1143         438         1.9784               70700          0   \n",
              "15927        1534         406         4.0132              229400          0   \n",
              "82            200          87         1.5208              112500          0   \n",
              "8161          711         283         5.1795              225400          1   \n",
              "...           ...         ...            ...                 ...        ...   \n",
              "10955        1079         436         1.7823              205300          1   \n",
              "17289         753         260         8.5608              500001          1   \n",
              "5192          775         293         1.1326              104800          1   \n",
              "12172        1323         477         2.6322              140700          0   \n",
              "235          1009         390         2.3036              126000          0   \n",
              "\n",
              "       INLAND  ISLAND  NEAR BAY  NEAR OCEAN  \n",
              "4712        0       0         0           0  \n",
              "2151        1       0         0           0  \n",
              "15927       0       0         1           0  \n",
              "82          0       0         1           0  \n",
              "8161        0       0         0           0  \n",
              "...       ...     ...       ...         ...  \n",
              "10955       0       0         0           0  \n",
              "17289       0       0         0           0  \n",
              "5192        0       0         0           0  \n",
              "12172       1       0         0           0  \n",
              "235         0       0         1           0  \n",
              "\n",
              "[20640 rows x 14 columns]"
            ]
          },
          "execution_count": 13,
          "metadata": {},
          "output_type": "execute_result"
        }
      ],
      "source": [
        "housing_pd_final = pd.concat([housing_pd_shuffled.drop('ocean_proximity', axis=1),\n",
        "                              pd.get_dummies(housing_pd_shuffled['ocean_proximity'])], axis=1)\n",
        "housing_pd_final"
      ]
    },
    {
      "cell_type": "code",
      "execution_count": null,
      "metadata": {
        "colab": {
          "base_uri": "https://localhost:8080/",
          "height": 460
        },
        "id": "fWSyL6Wy57fo",
        "outputId": "c8c32e16-9eea-4fa1-c22d-76a1b7633b8b"
      },
      "outputs": [
        {
          "data": {
            "text/html": [
              "<div>\n",
              "<style scoped>\n",
              "    .dataframe tbody tr th:only-of-type {\n",
              "        vertical-align: middle;\n",
              "    }\n",
              "\n",
              "    .dataframe tbody tr th {\n",
              "        vertical-align: top;\n",
              "    }\n",
              "\n",
              "    .dataframe thead th {\n",
              "        text-align: right;\n",
              "    }\n",
              "</style>\n",
              "<table border=\"1\" class=\"dataframe\">\n",
              "  <thead>\n",
              "    <tr style=\"text-align: right;\">\n",
              "      <th></th>\n",
              "      <th>longitude</th>\n",
              "      <th>latitude</th>\n",
              "      <th>housing_median_age</th>\n",
              "      <th>total_rooms</th>\n",
              "      <th>total_bedrooms</th>\n",
              "      <th>population</th>\n",
              "      <th>households</th>\n",
              "      <th>median_income</th>\n",
              "      <th>&lt;1H OCEAN</th>\n",
              "      <th>INLAND</th>\n",
              "      <th>ISLAND</th>\n",
              "      <th>NEAR BAY</th>\n",
              "      <th>NEAR OCEAN</th>\n",
              "      <th>median_house_value</th>\n",
              "    </tr>\n",
              "  </thead>\n",
              "  <tbody>\n",
              "    <tr>\n",
              "      <th>4712</th>\n",
              "      <td>-118.36</td>\n",
              "      <td>34.06</td>\n",
              "      <td>39</td>\n",
              "      <td>2810</td>\n",
              "      <td>670.0</td>\n",
              "      <td>1109</td>\n",
              "      <td>624</td>\n",
              "      <td>3.2500</td>\n",
              "      <td>1</td>\n",
              "      <td>0</td>\n",
              "      <td>0</td>\n",
              "      <td>0</td>\n",
              "      <td>0</td>\n",
              "      <td>355000</td>\n",
              "    </tr>\n",
              "    <tr>\n",
              "      <th>2151</th>\n",
              "      <td>-119.78</td>\n",
              "      <td>36.78</td>\n",
              "      <td>37</td>\n",
              "      <td>2185</td>\n",
              "      <td>455.0</td>\n",
              "      <td>1143</td>\n",
              "      <td>438</td>\n",
              "      <td>1.9784</td>\n",
              "      <td>0</td>\n",
              "      <td>1</td>\n",
              "      <td>0</td>\n",
              "      <td>0</td>\n",
              "      <td>0</td>\n",
              "      <td>70700</td>\n",
              "    </tr>\n",
              "    <tr>\n",
              "      <th>15927</th>\n",
              "      <td>-122.42</td>\n",
              "      <td>37.73</td>\n",
              "      <td>46</td>\n",
              "      <td>1819</td>\n",
              "      <td>411.0</td>\n",
              "      <td>1534</td>\n",
              "      <td>406</td>\n",
              "      <td>4.0132</td>\n",
              "      <td>0</td>\n",
              "      <td>0</td>\n",
              "      <td>0</td>\n",
              "      <td>1</td>\n",
              "      <td>0</td>\n",
              "      <td>229400</td>\n",
              "    </tr>\n",
              "    <tr>\n",
              "      <th>82</th>\n",
              "      <td>-122.28</td>\n",
              "      <td>37.81</td>\n",
              "      <td>52</td>\n",
              "      <td>340</td>\n",
              "      <td>97.0</td>\n",
              "      <td>200</td>\n",
              "      <td>87</td>\n",
              "      <td>1.5208</td>\n",
              "      <td>0</td>\n",
              "      <td>0</td>\n",
              "      <td>0</td>\n",
              "      <td>1</td>\n",
              "      <td>0</td>\n",
              "      <td>112500</td>\n",
              "    </tr>\n",
              "    <tr>\n",
              "      <th>8161</th>\n",
              "      <td>-118.13</td>\n",
              "      <td>33.82</td>\n",
              "      <td>37</td>\n",
              "      <td>1530</td>\n",
              "      <td>290.0</td>\n",
              "      <td>711</td>\n",
              "      <td>283</td>\n",
              "      <td>5.1795</td>\n",
              "      <td>1</td>\n",
              "      <td>0</td>\n",
              "      <td>0</td>\n",
              "      <td>0</td>\n",
              "      <td>0</td>\n",
              "      <td>225400</td>\n",
              "    </tr>\n",
              "    <tr>\n",
              "      <th>...</th>\n",
              "      <td>...</td>\n",
              "      <td>...</td>\n",
              "      <td>...</td>\n",
              "      <td>...</td>\n",
              "      <td>...</td>\n",
              "      <td>...</td>\n",
              "      <td>...</td>\n",
              "      <td>...</td>\n",
              "      <td>...</td>\n",
              "      <td>...</td>\n",
              "      <td>...</td>\n",
              "      <td>...</td>\n",
              "      <td>...</td>\n",
              "      <td>...</td>\n",
              "    </tr>\n",
              "    <tr>\n",
              "      <th>10955</th>\n",
              "      <td>-117.88</td>\n",
              "      <td>33.76</td>\n",
              "      <td>17</td>\n",
              "      <td>1768</td>\n",
              "      <td>474.0</td>\n",
              "      <td>1079</td>\n",
              "      <td>436</td>\n",
              "      <td>1.7823</td>\n",
              "      <td>1</td>\n",
              "      <td>0</td>\n",
              "      <td>0</td>\n",
              "      <td>0</td>\n",
              "      <td>0</td>\n",
              "      <td>205300</td>\n",
              "    </tr>\n",
              "    <tr>\n",
              "      <th>17289</th>\n",
              "      <td>-119.63</td>\n",
              "      <td>34.42</td>\n",
              "      <td>42</td>\n",
              "      <td>1765</td>\n",
              "      <td>263.0</td>\n",
              "      <td>753</td>\n",
              "      <td>260</td>\n",
              "      <td>8.5608</td>\n",
              "      <td>1</td>\n",
              "      <td>0</td>\n",
              "      <td>0</td>\n",
              "      <td>0</td>\n",
              "      <td>0</td>\n",
              "      <td>500001</td>\n",
              "    </tr>\n",
              "    <tr>\n",
              "      <th>5192</th>\n",
              "      <td>-118.26</td>\n",
              "      <td>33.93</td>\n",
              "      <td>42</td>\n",
              "      <td>1433</td>\n",
              "      <td>295.0</td>\n",
              "      <td>775</td>\n",
              "      <td>293</td>\n",
              "      <td>1.1326</td>\n",
              "      <td>1</td>\n",
              "      <td>0</td>\n",
              "      <td>0</td>\n",
              "      <td>0</td>\n",
              "      <td>0</td>\n",
              "      <td>104800</td>\n",
              "    </tr>\n",
              "    <tr>\n",
              "      <th>12172</th>\n",
              "      <td>-117.16</td>\n",
              "      <td>33.73</td>\n",
              "      <td>10</td>\n",
              "      <td>2381</td>\n",
              "      <td>454.0</td>\n",
              "      <td>1323</td>\n",
              "      <td>477</td>\n",
              "      <td>2.6322</td>\n",
              "      <td>0</td>\n",
              "      <td>1</td>\n",
              "      <td>0</td>\n",
              "      <td>0</td>\n",
              "      <td>0</td>\n",
              "      <td>140700</td>\n",
              "    </tr>\n",
              "    <tr>\n",
              "      <th>235</th>\n",
              "      <td>-122.20</td>\n",
              "      <td>37.79</td>\n",
              "      <td>35</td>\n",
              "      <td>1802</td>\n",
              "      <td>459.0</td>\n",
              "      <td>1009</td>\n",
              "      <td>390</td>\n",
              "      <td>2.3036</td>\n",
              "      <td>0</td>\n",
              "      <td>0</td>\n",
              "      <td>0</td>\n",
              "      <td>1</td>\n",
              "      <td>0</td>\n",
              "      <td>126000</td>\n",
              "    </tr>\n",
              "  </tbody>\n",
              "</table>\n",
              "<p>20640 rows × 14 columns</p>\n",
              "</div>"
            ],
            "text/plain": [
              "       longitude  latitude  housing_median_age  total_rooms  total_bedrooms  \\\n",
              "4712     -118.36     34.06                  39         2810           670.0   \n",
              "2151     -119.78     36.78                  37         2185           455.0   \n",
              "15927    -122.42     37.73                  46         1819           411.0   \n",
              "82       -122.28     37.81                  52          340            97.0   \n",
              "8161     -118.13     33.82                  37         1530           290.0   \n",
              "...          ...       ...                 ...          ...             ...   \n",
              "10955    -117.88     33.76                  17         1768           474.0   \n",
              "17289    -119.63     34.42                  42         1765           263.0   \n",
              "5192     -118.26     33.93                  42         1433           295.0   \n",
              "12172    -117.16     33.73                  10         2381           454.0   \n",
              "235      -122.20     37.79                  35         1802           459.0   \n",
              "\n",
              "       population  households  median_income  <1H OCEAN  INLAND  ISLAND  \\\n",
              "4712         1109         624         3.2500          1       0       0   \n",
              "2151         1143         438         1.9784          0       1       0   \n",
              "15927        1534         406         4.0132          0       0       0   \n",
              "82            200          87         1.5208          0       0       0   \n",
              "8161          711         283         5.1795          1       0       0   \n",
              "...           ...         ...            ...        ...     ...     ...   \n",
              "10955        1079         436         1.7823          1       0       0   \n",
              "17289         753         260         8.5608          1       0       0   \n",
              "5192          775         293         1.1326          1       0       0   \n",
              "12172        1323         477         2.6322          0       1       0   \n",
              "235          1009         390         2.3036          0       0       0   \n",
              "\n",
              "       NEAR BAY  NEAR OCEAN  median_house_value  \n",
              "4712          0           0              355000  \n",
              "2151          0           0               70700  \n",
              "15927         1           0              229400  \n",
              "82            1           0              112500  \n",
              "8161          0           0              225400  \n",
              "...         ...         ...                 ...  \n",
              "10955         0           0              205300  \n",
              "17289         0           0              500001  \n",
              "5192          0           0              104800  \n",
              "12172         0           0              140700  \n",
              "235           1           0              126000  \n",
              "\n",
              "[20640 rows x 14 columns]"
            ]
          },
          "execution_count": 14,
          "metadata": {},
          "output_type": "execute_result"
        }
      ],
      "source": [
        "housing_pd_final = housing_pd_final[['longitude',\t'latitude',\n",
        "                                     'housing_median_age',\t'total_rooms',\n",
        "                                     'total_bedrooms',\t'population',\n",
        "                                     'households',\t'median_income',\n",
        "                                     '<1H OCEAN',\n",
        "                                     'INLAND',\t'ISLAND',\n",
        "                                     'NEAR BAY',\t'NEAR OCEAN', 'median_house_value']]\n",
        "housing_pd_final"
      ]
    },
    {
      "cell_type": "code",
      "execution_count": null,
      "metadata": {
        "colab": {
          "base_uri": "https://localhost:8080/"
        },
        "id": "D16rxevT6xve",
        "outputId": "e8d0d951-fa1c-413c-9265-4694460d1648"
      },
      "outputs": [
        {
          "data": {
            "text/plain": [
              "20433"
            ]
          },
          "execution_count": 15,
          "metadata": {},
          "output_type": "execute_result"
        }
      ],
      "source": [
        "housing_pd_final = housing_pd_final.dropna()\n",
        "len(housing_pd_final)"
      ]
    },
    {
      "cell_type": "code",
      "execution_count": null,
      "metadata": {
        "colab": {
          "base_uri": "https://localhost:8080/"
        },
        "id": "R97mZLVw87aA",
        "outputId": "6ebb8afa-5be2-4d6f-fed0-d50f6f8e6343"
      },
      "outputs": [
        {
          "data": {
            "text/plain": [
              "(18000, 1217, 1218)"
            ]
          },
          "execution_count": 16,
          "metadata": {},
          "output_type": "execute_result"
        }
      ],
      "source": [
        "train_pd, test_pd, val_pd = housing_pd_final[:18000], housing_pd_final[18000:19217], housing_pd_final[19215:]\n",
        "len(train_pd), len(test_pd), len(val_pd)"
      ]
    },
    {
      "cell_type": "code",
      "execution_count": null,
      "metadata": {
        "colab": {
          "base_uri": "https://localhost:8080/"
        },
        "id": "LwfTPXHf9Xac",
        "outputId": "12620658-fac7-4802-e647-49a5368f730a"
      },
      "outputs": [
        {
          "data": {
            "text/plain": [
              "((18000, 13), (18000,), (1218, 13), (1218,), (1217, 13), (1217,))"
            ]
          },
          "execution_count": 17,
          "metadata": {},
          "output_type": "execute_result"
        }
      ],
      "source": [
        "X_train, y_train = train_pd.to_numpy()[:, :-1], train_pd.to_numpy()[:, -1]\n",
        "X_val, y_val = val_pd.to_numpy()[:, :-1], val_pd.to_numpy()[:, -1]\n",
        "X_test, y_test = test_pd.to_numpy()[:, :-1], test_pd.to_numpy()[:, -1]\n",
        "\n",
        "X_train.shape, y_train.shape, X_val.shape, y_val.shape, X_test.shape, y_test.shape"
      ]
    },
    {
      "cell_type": "code",
      "execution_count": null,
      "metadata": {
        "id": "KTwC3xG3-ttV"
      },
      "outputs": [],
      "source": [
        "from sklearn.preprocessing import StandardScaler\n",
        "import numpy as np\n",
        "\n",
        "scaler = StandardScaler().fit(X_train[:, :8])\n",
        "\n",
        "def preprocessor(X):\n",
        "  A = np.copy(X)\n",
        "  A[:, :8] = scaler.transform(A[:, :8])\n",
        "  return A\n",
        "\n",
        "X_train, X_val, X_test = preprocessor(X_train), preprocessor(X_val), preprocessor(X_test)"
      ]
    },
    {
      "cell_type": "code",
      "execution_count": null,
      "metadata": {
        "colab": {
          "base_uri": "https://localhost:8080/"
        },
        "id": "QGdkjnZIBwHe",
        "outputId": "7c82f39f-f525-4f74-a436-1907af265c64"
      },
      "outputs": [
        {
          "data": {
            "text/plain": [
              "((18000, 13), (1218, 13), (1217, 13))"
            ]
          },
          "execution_count": 19,
          "metadata": {},
          "output_type": "execute_result"
        }
      ],
      "source": [
        "X_train.shape, X_val.shape, X_test.shape"
      ]
    },
    {
      "cell_type": "code",
      "execution_count": null,
      "metadata": {},
      "outputs": [],
      "source": [
        "\n",
        "def argmax(lst):\n",
        "    return max(set(lst), key=lst.count)\n",
        "\n",
        "\n",
        "def euclidean(point, data):\n",
        "    return np.sqrt(np.sum((point - data) ** 2, axis=1))\n",
        "\n",
        "\n",
        "import numpy as np\n",
        "from sklearn.base import BaseEstimator, ClassifierMixin\n",
        "from scipy.spatial.distance import euclidean\n",
        "from sklearn.model_selection import GridSearchCV\n",
        "from numpy import argmax\n",
        "\n",
        "class KNN(BaseEstimator, ClassifierMixin):\n",
        "    def __init__(self, k=5, dist_metric=euclidean):\n",
        "        self.k = k\n",
        "        self.dist_metric = dist_metric\n",
        "\n",
        "    def fit(self, X_train, y_train):\n",
        "        self.X_train = X_train\n",
        "        self.y_train = y_train\n",
        "\n",
        "    def predict(self, X_test):\n",
        "        X_test = np.atleast_2d(X_test)  # Ensure X_test is 2D\n",
        "        neighbors = []\n",
        "        for x in X_test:\n",
        "            distances = [self.dist_metric(x, x_train) for x_train in self.X_train]\n",
        "            y_sorted = [y for _, y in sorted(zip(distances, self.y_train))]\n",
        "            neighbors.append(y_sorted[:self.k])\n",
        "        return np.array(list(map(argmax, neighbors)))\n",
        "\n",
        "    def evaluate(self, X_val, y_val):\n",
        "        y_pred = self.predict(X_val)\n",
        "        accuracy = np.sum(y_pred == y_val) / len(y_val)\n",
        "        return accuracy \n",
        "    \n",
        "    def score(self, X, y):\n",
        "        return self.evaluate(X, y)\n",
        "\n",
        "    def tuned_evaluate(self, X_val, y_val):\n",
        "        if self.model is None:\n",
        "            raise ValueError(\"Please run grid_search first to tune the model.\")\n",
        "        y_pred = self.model.predict(X_val)\n",
        "        accuracy = np.sum(y_pred == y_val) / len(y_val)\n",
        "        return accuracy\n",
        "\n",
        "# Separate grid search function\n",
        "def knn_grid_search(X_train, y_train, param_grid, cv=3):\n",
        "    knn = KNN()\n",
        "    grid_search = GridSearchCV(estimator=knn, param_grid=param_grid, cv=cv, n_jobs=-1, scoring='accuracy')\n",
        "    grid_search.fit(X_train, y_train)\n",
        "    best_params = grid_search.best_params_\n",
        "    best_estimator = KNN(**best_params)\n",
        "    best_estimator.fit(X_train, y_train)  # Fit with best parameters\n",
        "    return best_params, best_estimator"
      ]
    },
    {
      "cell_type": "code",
      "execution_count": null,
      "metadata": {},
      "outputs": [
        {
          "data": {
            "image/png": "[encoded data removed]",
            "text/plain": [
              "<Figure size 640x480 with 1 Axes>"
            ]
          },
          "metadata": {},
          "output_type": "display_data"
        }
      ],
      "source": [
        "import matplotlib.pyplot as plt\n",
        "accuracies = []\n",
        "ks = range(1, 10)\n",
        "for k in ks:\n",
        "    knn = KNN(k=k)\n",
        "    knn.fit(X_train, y_train)\n",
        "    accuracy = knn.evaluate(X_val, y_val)\n",
        "    accuracies.append(accuracy)\n",
        "fig, ax = plt.subplots()\n",
        "ax.plot(ks, accuracies)\n",
        "ax.set(xlabel=\"k\",\n",
        "       ylabel=\"Accuracy\",\n",
        "       title=\"Performance of knn\")\n",
        "plt.show()"
      ]
    },
    {
      "cell_type": "code",
      "execution_count": null,
      "metadata": {
        "colab": {
          "base_uri": "https://localhost:8080/"
        },
        "id": "8qGMVzkiChUO",
        "outputId": "855dd2f9-826a-49e7-de95-77a82d3e150d"
      },
      "outputs": [
        {
          "data": {
            "text/plain": [
              "(68593.05578127236, 71382.43558330165)"
            ]
          },
          "execution_count": 22,
          "metadata": {},
          "output_type": "execute_result"
        }
      ],
      "source": [
        "from sklearn.metrics import mean_squared_error as mse\n",
        "from sklearn.linear_model import LinearRegression\n",
        "\n",
        "lm = LinearRegression().fit(X_train, y_train)\n",
        "mse(lm.predict(X_train), y_train, squared=False), mse(lm.predict(X_val), y_val, squared=False)"
      ]
    },
    {
      "cell_type": "code",
      "execution_count": null,
      "metadata": {
        "colab": {
          "base_uri": "https://localhost:8080/"
        },
        "id": "ZiCqR084C9ZB",
        "outputId": "254cf32c-efd1-460f-a4c2-e5f1fea7e02c"
      },
      "outputs": [
        {
          "data": {
            "text/plain": [
              "(53759.09908812057, 62161.22860469906)"
            ]
          },
          "execution_count": 23,
          "metadata": {},
          "output_type": "execute_result"
        }
      ],
      "source": [
        "from sklearn.neighbors import KNeighborsRegressor\n",
        "\n",
        "knn = KNeighborsRegressor(n_neighbors=10).fit(X_train, y_train)\n",
        "mse(knn.predict(X_train), y_train, squared=False), mse(knn.predict(X_val), y_val, squared=False)"
      ]
    },
    {
      "cell_type": "code",
      "execution_count": null,
      "metadata": {},
      "outputs": [],
      "source": [
        "# fine tunning\n",
        "\n",
        "# Select 1/4 of the data for grid search\n",
        "subset_size = len(X_train) // 10  # Adjust the fraction as needed\n",
        "X_train_subset = X_train[:subset_size]\n",
        "y_train_subset = y_train[:subset_size]\n",
        "\n",
        "\n",
        "param_grid = {'k': range(1, 10), 'dist_metric': [euclidean]}\n",
        "best_params, best_estimator = knn_grid_search(estimator=knn, param_grid=param_grid, cv=3, n_jobs=-1, scoring='accuracy')\n",
        "\n",
        "print(\"Best Hyperparameters:\", best_params)\n",
        "\n",
        "# Use the best_estimator for further evaluation\n",
        "tuned_accuracy = best_estimator.tuned_evaluate(X_val, y_val)\n",
        "print(\"Tuned Model Accuracy:\", tuned_accuracy)"
      ]
    },
    {
      "cell_type": "code",
      "execution_count": null,
      "metadata": {
        "colab": {
          "base_uri": "https://localhost:8080/"
        },
        "id": "YX3GllmBDxhh",
        "outputId": "13b092c6-861e-44bd-c2c3-935a57ba4cd1"
      },
      "outputs": [
        {
          "data": {
            "text/plain": [
              "(43535.06329160793, 53191.99265176067)"
            ]
          },
          "execution_count": 24,
          "metadata": {},
          "output_type": "execute_result"
        }
      ],
      "source": [
        "from sklearn.ensemble import RandomForestRegressor\n",
        "\n",
        "rfr = RandomForestRegressor(max_depth=10).fit(X_train, y_train)\n",
        "mse(rfr.predict(X_train), y_train, squared=False), mse(rfr.predict(X_val), y_val, squared=False)"
      ]
    },
    {
      "cell_type": "code",
      "execution_count": null,
      "metadata": {
        "colab": {
          "base_uri": "https://localhost:8080/"
        },
        "id": "VLuWncFHEV_q",
        "outputId": "c0a35a35-9e32-40b9-a1d4-be1c0d65394e"
      },
      "outputs": [
        {
          "data": {
            "text/plain": [
              "(47274.82259072157, 51373.764499673)"
            ]
          },
          "execution_count": 25,
          "metadata": {},
          "output_type": "execute_result"
        }
      ],
      "source": [
        "from sklearn.ensemble import GradientBoostingRegressor\n",
        "\n",
        "gbr = GradientBoostingRegressor(n_estimators=250).fit(X_train, y_train)\n",
        "mse(gbr.predict(X_train), y_train, squared=False), mse(gbr.predict(X_val), y_val, squared=False)"
      ]
    },
    {
      "cell_type": "code",
      "execution_count": null,
      "metadata": {
        "id": "H7isnnEiE10q"
      },
      "outputs": [
        {
          "ename": "ModuleNotFoundError",
          "evalue": "No module named 'tensorflow'",
          "output_type": "error",
          "traceback": [
            "\u001b[1;31m---------------------------------------------------------------------------\u001b[0m",
            "\u001b[1;31mModuleNotFoundError\u001b[0m                       Traceback (most recent call last)",
            "\u001b[1;32m~\\AppData\\Local\\Temp\\ipykernel_5620\\1838394601.py\u001b[0m in \u001b[0;36m<module>\u001b[1;34m\u001b[0m\n\u001b[1;32m----> 1\u001b[1;33m \u001b[1;32mfrom\u001b[0m \u001b[0mtensorflow\u001b[0m\u001b[1;33m.\u001b[0m\u001b[0mkeras\u001b[0m\u001b[1;33m.\u001b[0m\u001b[0mmodels\u001b[0m \u001b[1;32mimport\u001b[0m \u001b[0mSequential\u001b[0m\u001b[1;33m\u001b[0m\u001b[1;33m\u001b[0m\u001b[0m\n\u001b[0m\u001b[0;32m      2\u001b[0m \u001b[1;32mfrom\u001b[0m \u001b[0mtensorflow\u001b[0m\u001b[1;33m.\u001b[0m\u001b[0mkeras\u001b[0m\u001b[1;33m.\u001b[0m\u001b[0mlayers\u001b[0m \u001b[1;32mimport\u001b[0m \u001b[1;33m*\u001b[0m\u001b[1;33m\u001b[0m\u001b[1;33m\u001b[0m\u001b[0m\n\u001b[0;32m      3\u001b[0m \u001b[1;32mfrom\u001b[0m \u001b[0mtensorflow\u001b[0m\u001b[1;33m.\u001b[0m\u001b[0mkeras\u001b[0m\u001b[1;33m.\u001b[0m\u001b[0mcallbacks\u001b[0m \u001b[1;32mimport\u001b[0m \u001b[0mModelCheckpoint\u001b[0m\u001b[1;33m\u001b[0m\u001b[1;33m\u001b[0m\u001b[0m\n\u001b[0;32m      4\u001b[0m \u001b[1;32mfrom\u001b[0m \u001b[0mtensorflow\u001b[0m\u001b[1;33m.\u001b[0m\u001b[0mkeras\u001b[0m\u001b[1;33m.\u001b[0m\u001b[0mmetrics\u001b[0m \u001b[1;32mimport\u001b[0m \u001b[0mRootMeanSquaredError\u001b[0m\u001b[1;33m\u001b[0m\u001b[1;33m\u001b[0m\u001b[0m\n\u001b[0;32m      5\u001b[0m \u001b[1;32mfrom\u001b[0m \u001b[0mtensorflow\u001b[0m\u001b[1;33m.\u001b[0m\u001b[0mkeras\u001b[0m\u001b[1;33m.\u001b[0m\u001b[0moptimizers\u001b[0m \u001b[1;32mimport\u001b[0m \u001b[0mAdam\u001b[0m\u001b[1;33m\u001b[0m\u001b[1;33m\u001b[0m\u001b[0m\n",
            "\u001b[1;31mModuleNotFoundError\u001b[0m: No module named 'tensorflow'"
          ]
        }
      ],
      "source": [
        "from tensorflow.keras.models import Sequential\n",
        "from tensorflow.keras.layers import *\n",
        "from tensorflow.keras.callbacks import ModelCheckpoint\n",
        "from tensorflow.keras.metrics import RootMeanSquaredError\n",
        "from tensorflow.keras.optimizers import Adam\n",
        "\n",
        "simple_nn = Sequential()\n",
        "simple_nn.add(InputLayer((13,)))\n",
        "simple_nn.add(Dense(2, 'relu'))\n",
        "simple_nn.add(Dense(1, 'linear'))\n",
        "\n",
        "opt = Adam(learning_rate=.1)\n",
        "cp = ModelCheckpoint('models/simple_nn', save_best_only=True)\n",
        "simple_nn.compile(optimizer=opt, loss='mse', metrics=[RootMeanSquaredError()])\n",
        "simple_nn.fit(x=X_train, y=y_train, validation_data=(X_val, y_val), callbacks=[cp], epochs=100)"
      ]
    },
    {
      "cell_type": "code",
      "execution_count": null,
      "metadata": {
        "colab": {
          "base_uri": "https://localhost:8080/"
        },
        "id": "_SflsiTCGxVp",
        "outputId": "139c3d5d-829e-424b-a88a-b14f2c125328"
      },
      "outputs": [
        {
          "data": {
            "text/plain": [
              "(65215.85680514889, 67767.7671508129)"
            ]
          },
          "execution_count": 70,
          "metadata": {},
          "output_type": "execute_result"
        }
      ],
      "source": [
        "from tensorflow.keras.models import load_model\n",
        "\n",
        "simple_nn = load_model('models/simple_nn')\n",
        "mse(simple_nn.predict(X_train), y_train, squared=False), mse(simple_nn.predict(X_val), y_val, squared=False)"
      ]
    },
    {
      "cell_type": "code",
      "execution_count": null,
      "metadata": {
        "id": "0QLS6aybID9Q"
      },
      "outputs": [],
      "source": [
        "medium_nn = Sequential()\n",
        "medium_nn.add(InputLayer((13,)))\n",
        "medium_nn.add(Dense(32, 'relu'))\n",
        "medium_nn.add(Dense(16, 'relu'))\n",
        "medium_nn.add(Dense(1, 'linear'))\n",
        "\n",
        "opt = Adam(learning_rate=.1)\n",
        "cp = ModelCheckpoint('models/medium_nn', save_best_only=True)\n",
        "medium_nn.compile(optimizer=opt, loss='mse', metrics=[RootMeanSquaredError()])\n",
        "medium_nn.fit(x=X_train, y=y_train, validation_data=(X_val, y_val), callbacks=[cp], epochs=100)"
      ]
    },
    {
      "cell_type": "code",
      "execution_count": null,
      "metadata": {
        "colab": {
          "base_uri": "https://localhost:8080/"
        },
        "id": "RPwwpMMZIIrA",
        "outputId": "97378ea3-e00c-459e-9bbd-ae26f70c7cfe"
      },
      "outputs": [
        {
          "data": {
            "text/plain": [
              "(51672.23206936678, 56032.4984374479)"
            ]
          },
          "execution_count": 72,
          "metadata": {},
          "output_type": "execute_result"
        }
      ],
      "source": [
        "medium_nn = load_model('models/medium_nn')\n",
        "mse(medium_nn.predict(X_train), y_train, squared=False), mse(medium_nn.predict(X_val), y_val, squared=False)"
      ]
    },
    {
      "cell_type": "code",
      "execution_count": null,
      "metadata": {
        "id": "vWoPfZ0HI9U_"
      },
      "outputs": [],
      "source": [
        "large_nn = Sequential()\n",
        "large_nn.add(InputLayer((13,)))\n",
        "large_nn.add(Dense(256, 'relu'))\n",
        "large_nn.add(Dense(128, 'relu'))\n",
        "large_nn.add(Dense(64, 'relu'))\n",
        "large_nn.add(Dense(32, 'relu'))\n",
        "large_nn.add(Dense(1, 'linear'))\n",
        "\n",
        "opt = Adam(learning_rate=.1)\n",
        "cp = ModelCheckpoint('models/large_nn', save_best_only=True)\n",
        "large_nn.compile(optimizer=opt, loss='mse', metrics=[RootMeanSquaredError()])\n",
        "large_nn.fit(x=X_train, y=y_train, validation_data=(X_val, y_val), callbacks=[cp], epochs=100)"
      ]
    },
    {
      "cell_type": "code",
      "execution_count": null,
      "metadata": {
        "colab": {
          "base_uri": "https://localhost:8080/"
        },
        "id": "v5sa_qQVJByu",
        "outputId": "61c2aff1-ee4e-45fe-ee35-48d63a00d6c5"
      },
      "outputs": [
        {
          "data": {
            "text/plain": [
              "(46453.999894207904, 53604.151459795976)"
            ]
          },
          "execution_count": 74,
          "metadata": {},
          "output_type": "execute_result"
        }
      ],
      "source": [
        "large_nn = load_model('models/large_nn')\n",
        "mse(large_nn.predict(X_train), y_train, squared=False), mse(large_nn.predict(X_val), y_val, squared=False)"
      ]
    },
    {
      "cell_type": "code",
      "execution_count": null,
      "metadata": {
        "colab": {
          "base_uri": "https://localhost:8080/"
        },
        "id": "k9qTUZ1YKA64",
        "outputId": "6d3891d4-edbe-40d6-dcb0-2bca9f38e73e"
      },
      "outputs": [
        {
          "data": {
            "text/plain": [
              "49343.558115024265"
            ]
          },
          "execution_count": 75,
          "metadata": {},
          "output_type": "execute_result"
        }
      ],
      "source": [
        "mse(gbr.predict(X_test), y_test, squared=False)"
      ]
    },
    {
      "cell_type": "code",
      "execution_count": null,
      "metadata": {
        "id": "xJLzIm4NKGsU"
      },
      "outputs": [],
      "source": []
    }
  ],
  "metadata": {
    "colab": {
      "provenance": []
    },
    "kernelspec": {
      "display_name": "Python 3",
      "name": "python3"
    },
    "language_info": {
      "codemirror_mode": {
        "name": "ipython",
        "version": 3
      },
      "file_extension": ".py",
      "mimetype": "text/x-python",
      "name": "python",
      "nbconvert_exporter": "python",
      "pygments_lexer": "ipython3",
      "version": "3.11.0"
    }
  },
  "nbformat": 4,
  "nbformat_minor": 0
}
